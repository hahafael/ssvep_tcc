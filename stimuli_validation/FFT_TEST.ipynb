{
 "cells": [
  {
   "cell_type": "code",
   "execution_count": 1,
   "metadata": {
    "scrolled": false
   },
   "outputs": [
    {
     "data": {
      "text/html": [
       "<div>\n",
       "<style scoped>\n",
       "    .dataframe tbody tr th:only-of-type {\n",
       "        vertical-align: middle;\n",
       "    }\n",
       "\n",
       "    .dataframe tbody tr th {\n",
       "        vertical-align: top;\n",
       "    }\n",
       "\n",
       "    .dataframe thead th {\n",
       "        text-align: right;\n",
       "    }\n",
       "</style>\n",
       "<table border=\"1\" class=\"dataframe\">\n",
       "  <thead>\n",
       "    <tr style=\"text-align: right;\">\n",
       "      <th></th>\n",
       "      <th>Record Length</th>\n",
       "      <th>2.500000e+03</th>\n",
       "      <th>Unnamed: 2</th>\n",
       "      <th>-0.125000000000</th>\n",
       "      <th>2.68000</th>\n",
       "      <th>Unnamed: 5</th>\n",
       "    </tr>\n",
       "  </thead>\n",
       "  <tbody>\n",
       "    <tr>\n",
       "      <td>0</td>\n",
       "      <td>Sample Interval</td>\n",
       "      <td>1.000000e-04</td>\n",
       "      <td>NaN</td>\n",
       "      <td>-0.1249</td>\n",
       "      <td>2.72</td>\n",
       "      <td>NaN</td>\n",
       "    </tr>\n",
       "    <tr>\n",
       "      <td>1</td>\n",
       "      <td>Trigger Point</td>\n",
       "      <td>1.250000000000e+03</td>\n",
       "      <td>NaN</td>\n",
       "      <td>-0.1248</td>\n",
       "      <td>2.72</td>\n",
       "      <td>NaN</td>\n",
       "    </tr>\n",
       "    <tr>\n",
       "      <td>2</td>\n",
       "      <td>NaN</td>\n",
       "      <td>NaN</td>\n",
       "      <td>NaN</td>\n",
       "      <td>-0.1247</td>\n",
       "      <td>2.68</td>\n",
       "      <td>NaN</td>\n",
       "    </tr>\n",
       "    <tr>\n",
       "      <td>3</td>\n",
       "      <td>NaN</td>\n",
       "      <td>NaN</td>\n",
       "      <td>NaN</td>\n",
       "      <td>-0.1246</td>\n",
       "      <td>2.68</td>\n",
       "      <td>NaN</td>\n",
       "    </tr>\n",
       "    <tr>\n",
       "      <td>4</td>\n",
       "      <td>NaN</td>\n",
       "      <td>NaN</td>\n",
       "      <td>NaN</td>\n",
       "      <td>-0.1245</td>\n",
       "      <td>2.68</td>\n",
       "      <td>NaN</td>\n",
       "    </tr>\n",
       "  </tbody>\n",
       "</table>\n",
       "</div>"
      ],
      "text/plain": [
       "     Record Length        2.500000e+03  Unnamed: 2    -0.125000000000  \\\n",
       "0  Sample Interval        1.000000e-04         NaN            -0.1249   \n",
       "1    Trigger Point  1.250000000000e+03         NaN            -0.1248   \n",
       "2              NaN                 NaN         NaN            -0.1247   \n",
       "3              NaN                 NaN         NaN            -0.1246   \n",
       "4              NaN                 NaN         NaN            -0.1245   \n",
       "\n",
       "      2.68000  Unnamed: 5  \n",
       "0        2.72         NaN  \n",
       "1        2.72         NaN  \n",
       "2        2.68         NaN  \n",
       "3        2.68         NaN  \n",
       "4        2.68         NaN  "
      ]
     },
     "execution_count": 1,
     "metadata": {},
     "output_type": "execute_result"
    }
   ],
   "source": [
    "import pandas as pd\n",
    "import matplotlib.pyplot as plt\n",
    "import numpy as np\n",
    "from scipy import fftpack\n",
    "import scipy\n",
    "df_data = pd.read_csv(\"F0002CH1.CSV\")\n",
    "df_data.head()\n"
   ]
  },
  {
   "cell_type": "code",
   "execution_count": 2,
   "metadata": {
    "scrolled": true
   },
   "outputs": [
    {
     "data": {
      "text/plain": [
       "(2499, 6)"
      ]
     },
     "execution_count": 2,
     "metadata": {},
     "output_type": "execute_result"
    }
   ],
   "source": [
    "df_data.shape"
   ]
  },
  {
   "cell_type": "code",
   "execution_count": 3,
   "metadata": {},
   "outputs": [
    {
     "data": {
      "image/png": "[encoded data removed]",
      "text/plain": [
       "<Figure size 432x288 with 1 Axes>"
      ]
     },
     "metadata": {
      "needs_background": "light"
     },
     "output_type": "display_data"
    }
   ],
   "source": [
    "time = df_data.iloc[:,3].to_numpy()      #getting only the fourth column (time)\n",
    "amplitude = df_data.iloc[:,4].to_numpy() - 1.35  #getting only the fifth column (amplitude)\n",
    "    \n",
    "\n",
    "plt.plot(time,amplitude)\n",
    "plt.ylabel('Amplitude (V)')\n",
    "plt.xlabel ('Tempo (ms)')\n",
    "plt.grid('on')"
   ]
  },
  {
   "cell_type": "code",
   "execution_count": 23,
   "metadata": {
    "scrolled": true
   },
   "outputs": [
    {
     "data": {
      "text/plain": [
       "(0, 3)"
      ]
     },
     "execution_count": 23,
     "metadata": {},
     "output_type": "execute_result"
    },
    {
     "data": {
      "image/png": "[encoded data removed]",
      "text/plain": [
       "<Figure size 432x288 with 1 Axes>"
      ]
     },
     "metadata": {
      "needs_background": "light"
     },
     "output_type": "display_data"
    }
   ],
   "source": [
    "N = len(time) # signal length\n",
    "ts = time[2]-time[1] #period sampling\n",
    "fs = 1/ts\n",
    "\n",
    "t = np.linspace(0, N*ts, N)\n",
    "transf = scipy.fftpack.fft(amplitude) \n",
    "\n",
    "freqs = fftpack.fftfreq(len(amplitude)) * fs #return the frequencies associated to the coefficients\n",
    "\n",
    "\n",
    "fig, ax = plt.subplots()\n",
    "\n",
    "ax.plot(freqs, 2/N * np.absolute(transf))\n",
    "plt.title(\"FFT - Onda quadrada em 25 Hz. \")\n",
    "plt.xlabel(\"Frequência\")\n",
    "plt.ylabel(\"Amplitude\")\n",
    "plt.grid('on')\n",
    "ax.set_xlim(0, 300)\n",
    "ax.set_ylim(0, 3)"
   ]
  },
  {
   "cell_type": "code",
   "execution_count": null,
   "metadata": {},
   "outputs": [],
   "source": []
  },
  {
   "cell_type": "code",
   "execution_count": null,
   "metadata": {
    "scrolled": true
   },
   "outputs": [],
   "source": []
  },
  {
   "cell_type": "code",
   "execution_count": null,
   "metadata": {},
   "outputs": [],
   "source": []
  }
 ],
 "metadata": {
  "kernelspec": {
   "display_name": "Python 3",
   "language": "python",
   "name": "python3"
  },
  "language_info": {
   "codemirror_mode": {
    "name": "ipython",
    "version": 3
   },
   "file_extension": ".py",
   "mimetype": "text/x-python",
   "name": "python",
   "nbconvert_exporter": "python",
   "pygments_lexer": "ipython3",
   "version": "3.6.9"
  }
 },
 "nbformat": 4,
 "nbformat_minor": 2
}
